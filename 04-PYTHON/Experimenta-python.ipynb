{
 "cells": [
  {
   "cell_type": "markdown",
   "metadata": {},
   "source": [
    "# Experimenta\n",
    "\n",
    "Realiza una función que realice la descomposición en factores de un número. Deberá devolver una lista con los factores de dicho número. Recordad que la\n",
    "descomposición en factores de un número consiste en hallar el conjunto de números primos cuya multiplicación dé dicho número como resultado."
   ]
  },
  {
   "cell_type": "code",
   "execution_count": 12,
   "metadata": {},
   "outputs": [],
   "source": [
    "### FUNCIONES\n",
    "\n",
    "# Realizar funcion descomposicion de factores de un numero\n",
    "\n",
    "#-----------------------------------------------------------------------------------------\n",
    "\n",
    "def es_primo(num): # La funcion comprueba si el numero es primo\n",
    "    if num <= 1:  # el numero 1 no cuenta como numero primo, ni los numeros negativos\n",
    "        return False\n",
    "    for i in range(2, int(num**0.5) + 1): \n",
    "        if num % i == 0:\n",
    "            return False\n",
    "    return True\n",
    "'''En el bucle for, el rango esta delimitado desde 2 (primer numero primo) hasta la raiz cuadrada (num**0.5) mas 1,\n",
    "    para que incluya el numero. la funcion int se usa para dar un numero entero al rango.\n",
    "    Ej: si usamos el numero 2 como argumento de la funcion, el rango sera: range(2, int(2**0.5)+1), o range(2, int(1,42)+1)->\n",
    "    range(2,1+1)->range(2,2). Este rango no se ejecuta y por tanto el dos lo cuenta como numero primo ya que no pasa al if \n",
    "    siguiente y sale del bucle.\n",
    "    Ej2: si usamos el numero 7 como argumento de la funcion, el rango sera: range(2, int(7**0.5)+1), o range(2, int(2.646)+1)->\n",
    "    range(2,2+1)->range(2,3). La iteracion en este rango es solo del numero 2 y por tanto no cumple la condicion de \n",
    "    7%2== 0. El 7 es primo.\n",
    "'''\n",
    "def primos_menores(n):\n",
    "    lista_primo = []\n",
    "    for num in range(2, n):\n",
    "        if es_primo(num):\n",
    "            lista_primo.append(num)\n",
    "    return lista_primo\n",
    "'''\n",
    "Para la segunda funcion, usando una lista vacia realizamos un bucle for, con el rango desde el numero dos hasta el numero \n",
    "dado (de esta manera no se le incluye), realizamos la prueba de si cada numero es primo con la funcion creada anteriormente,\n",
    "si es primo se mete en la lista vacia, si no es primo, se pasa al siguiente iterable del rango para ver si es primo.\n",
    "'''\n",
    "\n",
    "def division(n,lista):\n",
    "    factores = []\n",
    "    for i in lista:\n",
    "        while n % i == 0:\n",
    "            factores.append(i)\n",
    "            n //= i\n",
    "        if n == 1:\n",
    "            break\n",
    "    return factores\n",
    "''' \n",
    "Con la funcion division, tenemos como argumentos el numero que queremos introducir y la lista de numeros primos menores que el.\n",
    "Podriamos usar la funcion primos_menores dentro de division pero teniendolas como dos funciones separadas es mas facil de leer.\n",
    "En la funcion division usamos dos bucles, el bucle for itera los elementos de la lista de numeros primos de la funcion primos_menores\n",
    "y con el bucle ehile hacemos que en otra lista se vayan guardando los factores necesarios para descomponer el numero principal.\n",
    "Una vez el numero esta descompuesto hasta llega al uno, se rompe el bucle while e intenta con el siguiente iterable hasta que acaba la lista.\n",
    "Devuelve la lista con los factores.\n",
    "'''\n",
    "def factores_primos(x):                     # Esta funcion solo existe para solo tener que llamar a una funcion en lugar de a varias.\n",
    "    return division(x,primos_menores(x))    # Da limpieza al codigo"
   ]
  },
  {
   "cell_type": "code",
   "execution_count": 13,
   "metadata": {},
   "outputs": [
    {
     "data": {
      "text/plain": [
       "[2, 3, 3, 13]"
      ]
     },
     "execution_count": 13,
     "metadata": {},
     "output_type": "execute_result"
    }
   ],
   "source": [
    "### PRUEBA FUNCION \n",
    "factores_primos(234)"
   ]
  },
  {
   "cell_type": "markdown",
   "metadata": {},
   "source": [
    "# Experimenta 2\n",
    "\n",
    "1. Crea una función log que acepte cualquier número de argumentos y los imprima por pantalla en una misma línea. La línea debe empezar \n",
    " con el prefijo ‘LOG: ’. \n",
    "\n",
    "2. Modifica la función log para que usuario pueda especificar cualquier prefijo que desee. \n",
    "\n",
    "3. Modifica la función log para que el prefijo tenga el valor por defecto ‘LOG: ’.\n",
    "\n",
    "4. Modifica la función log para que el usuario pueda establecer tanto prefijo como separador entre argumentos. Ambos deben pasarse sólo por los\n",
    " nombres (no por posición) ‘sep’ y ‘prefix’. No hace falta que estos tengan valor por defecto.\n",
    "\n",
    "5. Modfica la función log para que ahora ‘sep’ y ‘prefix’ tengan un valor por defecto.\n",
    "\n",
    "6. Modifica la función log para que acepte el siguiente diccionario. Recuerda que hay que pasarlo desempaquetándolo con la sintaxis de doble\n",
    " asterisco (**)."
   ]
  },
  {
   "cell_type": "code",
   "execution_count": null,
   "metadata": {},
   "outputs": [],
   "source": [
    "### FUNCIONES\n",
    "\n"
   ]
  }
 ],
 "metadata": {
  "kernelspec": {
   "display_name": "Python 3",
   "language": "python",
   "name": "python3"
  },
  "language_info": {
   "codemirror_mode": {
    "name": "ipython",
    "version": 3
   },
   "file_extension": ".py",
   "mimetype": "text/x-python",
   "name": "python",
   "nbconvert_exporter": "python",
   "pygments_lexer": "ipython3",
   "version": "3.12.3"
  }
 },
 "nbformat": 4,
 "nbformat_minor": 2
}
