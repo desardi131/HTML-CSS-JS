{
 "cells": [
  {
   "cell_type": "markdown",
   "metadata": {},
   "source": [
    "# Test práctico \n",
    "\n",
    "1. Dados dos números, escriba un código Python para encontrar el mínimo de estos dos números"
   ]
  },
  {
   "cell_type": "code",
   "execution_count": null,
   "metadata": {},
   "outputs": [],
   "source": [
    "### Funcion\n",
    "\n",
    "def minimos(a, b):\n",
    "    listaarg = [a,b]\n",
    "    return min(listaarg)\n",
    "\n",
    "# Llamada\n",
    "minimos(-3,-5)"
   ]
  },
  {
   "cell_type": "markdown",
   "metadata": {},
   "source": [
    "2. Invertir palabras de una cadena dada.\n",
    "\n",
    "Ej: Entrada\n",
    "``` python\n",
    "str = 'código de práctica de prueba de geeks'\n",
    "```\n",
    "Salida\n",
    "\n",
    "``` python\n",
    "str = 'geeks de prueba de práctica de código'\n",
    "```"
   ]
  },
  {
   "cell_type": "code",
   "execution_count": null,
   "metadata": {},
   "outputs": [],
   "source": [
    "### Funcion\n",
    "\n",
    "def invertir(a):\n",
    "    a_lower = a.lower()\n",
    "    lista_string = a_lower.split(' ')\n",
    "    lista_string.reverse()\n",
    "\n",
    "    print(' '.join(lista_string))\n",
    "\n",
    "# Llamada de ejemplo\n",
    "\n",
    "invertir('código de práctica de prueba de geeks')"
   ]
  },
  {
   "cell_type": "markdown",
   "metadata": {},
   "source": [
    "3. Realizar una suma de los elementos de una tupla"
   ]
  },
  {
   "cell_type": "code",
   "execution_count": null,
   "metadata": {},
   "outputs": [],
   "source": [
    "### Funcion\n",
    "\n",
    "def suma_tupla():\n",
    "    pass\n",
    "\n",
    "# Llamada de ejemplo"
   ]
  }
 ],
 "metadata": {
  "kernelspec": {
   "display_name": "Python 3",
   "language": "python",
   "name": "python3"
  },
  "language_info": {
   "codemirror_mode": {
    "name": "ipython",
    "version": 3
   },
   "file_extension": ".py",
   "mimetype": "text/x-python",
   "name": "python",
   "nbconvert_exporter": "python",
   "pygments_lexer": "ipython3",
   "version": "3.12.3"
  }
 },
 "nbformat": 4,
 "nbformat_minor": 2
}
