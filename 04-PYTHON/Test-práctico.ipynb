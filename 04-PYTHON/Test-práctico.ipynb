{
 "cells": [
  {
   "cell_type": "markdown",
   "metadata": {},
   "source": [
    "# Test práctico \n",
    "\n",
    "1. Dados dos números, escriba un código Python para encontrar el mínimo de estos dos números"
   ]
  },
  {
   "cell_type": "code",
   "execution_count": null,
   "metadata": {},
   "outputs": [],
   "source": [
    "### Funcion\n",
    "\n",
    "def minimos(a, b):\n",
    "    listaarg = [a,b]\n",
    "    return min(listaarg)\n",
    "\n",
    "# Llamada\n",
    "minimos(-3,-5)"
   ]
  },
  {
   "cell_type": "markdown",
   "metadata": {},
   "source": [
    "2. Invertir palabras de una cadena dada.\n",
    "\n",
    "Ej: Entrada\n",
    "``` python\n",
    "str = 'código de práctica de prueba de geeks'\n",
    "```\n",
    "Salida\n",
    "\n",
    "``` python\n",
    "str = 'geeks de prueba de práctica de código'\n",
    "```"
   ]
  },
  {
   "cell_type": "code",
   "execution_count": null,
   "metadata": {},
   "outputs": [],
   "source": [
    "### Funcion\n",
    "\n",
    "def invertir(a):\n",
    "    a_lower = a.lower() # Convierto en minusculas \n",
    "    lista_string = a_lower.split(' ') # Separo por espacios y meto en una lista\n",
    "    lista_string.reverse() # Le doy la vuelta a dicha lista\n",
    "\n",
    "    print(' '.join(lista_string)) # Imprimo la union de la lista anterior, ahora un solo string\n",
    "\n",
    "# Llamada de ejemplo\n",
    "\n",
    "invertir('código de práctica de prueba de geeks')"
   ]
  },
  {
   "cell_type": "markdown",
   "metadata": {},
   "source": [
    "3. Realizar una suma de los elementos de una tupla"
   ]
  },
  {
   "cell_type": "code",
   "execution_count": null,
   "metadata": {},
   "outputs": [],
   "source": [
    "### Funcion\n",
    "\n",
    "def suma_tupla(tuple):\n",
    "    suma_lista = sum(list(tuple)) # Usa la funcion sum() operando en una lista, que si es mutable\n",
    "    return suma_lista\n",
    "\n",
    "# Llamada de ejemplo\n",
    "\n",
    "tupla_prueba = (3, 5, 69, 25, 76)\n",
    "\n",
    "suma_tupla(tupla_prueba)"
   ]
  },
  {
   "cell_type": "markdown",
   "metadata": {},
   "source": [
    "4. Escriba un código que calcule una lista de números proporcionados."
   ]
  },
  {
   "cell_type": "code",
   "execution_count": null,
   "metadata": {},
   "outputs": [],
   "source": [
    "### Funcion\n",
    "\n",
    "def suma_lista(num_list):\n",
    "    if len(num_list) == 1:\n",
    "        return num_list[0]\n",
    "    else:\n",
    "        return sum(num_list)\n",
    "# Llamada de ejemplo\n",
    "\n",
    "suma_lista([3,5,2,5,2,7,8,3,4,23])"
   ]
  },
  {
   "cell_type": "markdown",
   "metadata": {},
   "source": [
    "5. Escriba un código que desordene al azar una lista."
   ]
  },
  {
   "cell_type": "code",
   "execution_count": null,
   "metadata": {},
   "outputs": [],
   "source": [
    "### Funcion\n",
    "from random import shuffle \n",
    "\n",
    "def desorden(list):\n",
    "    shuffle(list)\n",
    "    print(list) # Uso print ya que en una celda solo muestra el ultimo resultado con return, solo muestra desorden(y)\n",
    "\n",
    "# Llamada de ejemplo\n",
    "\n",
    "x = [3,5,2,5,2,7,8,3,4,23]\n",
    "\n",
    "y = ['Vivan', 'las', 'listas', 'en', 'python']\n",
    "\n",
    "desorden(x)\n",
    "desorden(y)"
   ]
  },
  {
   "cell_type": "markdown",
   "metadata": {},
   "source": [
    "6. Escriba un código que pueda contar todas las palabras mayúsculas de un archivo."
   ]
  },
  {
   "cell_type": "code",
   "execution_count": 22,
   "metadata": {},
   "outputs": [
    {
     "data": {
      "text/plain": [
       "71"
      ]
     },
     "execution_count": 22,
     "metadata": {},
     "output_type": "execute_result"
    }
   ],
   "source": [
    "### Funcion\n",
    "\n",
    "def count_mayus(archivo):\n",
    "    try:\n",
    "        with open(archivo, 'r') as file:\n",
    "            mayus_count = 0\n",
    "            for word in file.read():\n",
    "                if word.isupper():\n",
    "                    mayus_count += 1\n",
    "            return mayus_count\n",
    "    except FileNotFoundError:\n",
    "        print('File not found')\n",
    "        return -1\n",
    "# Llamada de ejemplo\n",
    "\n",
    "arch = '001_Variables_copy.py'\n",
    "\n",
    "count_mayus(arch)"
   ]
  }
 ],
 "metadata": {
  "kernelspec": {
   "display_name": "Python 3",
   "language": "python",
   "name": "python3"
  },
  "language_info": {
   "codemirror_mode": {
    "name": "ipython",
    "version": 3
   },
   "file_extension": ".py",
   "mimetype": "text/x-python",
   "name": "python",
   "nbconvert_exporter": "python",
   "pygments_lexer": "ipython3",
   "version": "3.12.3"
  }
 },
 "nbformat": 4,
 "nbformat_minor": 2
}
