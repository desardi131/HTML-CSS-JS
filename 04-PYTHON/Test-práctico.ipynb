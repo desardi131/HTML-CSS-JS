{
 "cells": [
  {
   "cell_type": "markdown",
   "metadata": {},
   "source": [
    "# Test práctico \n",
    "\n",
    "1. Dados dos números, escriba un código Python para encontrar el mínimo de estos dos números"
   ]
  },
  {
   "cell_type": "code",
   "execution_count": null,
   "metadata": {},
   "outputs": [],
   "source": [
    "### Funcion\n",
    "\n",
    "def minimos(a, b):\n",
    "    listaarg = [a,b]\n",
    "    return min(listaarg)\n",
    "\n",
    "# Llamada\n",
    "minimos(-3,-5)"
   ]
  },
  {
   "cell_type": "markdown",
   "metadata": {},
   "source": [
    "2. Invertir palabras de una cadena dada.\n",
    "\n",
    "Ej: Entrada\n",
    "``` python\n",
    "str = 'código de práctica de prueba de geeks'\n",
    "```\n",
    "Salida\n",
    "\n",
    "``` python\n",
    "str = 'geeks de prueba de práctica de código'\n",
    "```"
   ]
  },
  {
   "cell_type": "code",
   "execution_count": null,
   "metadata": {},
   "outputs": [],
   "source": [
    "### Funcion\n",
    "\n",
    "def invertir(a):\n",
    "    a_lower = a.lower() # Convierto en minusculas \n",
    "    lista_string = a_lower.split(' ') # Separo por espacios y meto en una lista\n",
    "    lista_string.reverse() # Le doy la vuelta a dicha lista\n",
    "\n",
    "    print(' '.join(lista_string)) # Imprimo la union de la lista anterior, ahora un solo string\n",
    "\n",
    "# Llamada de ejemplo\n",
    "\n",
    "invertir('código de práctica de prueba de geeks')"
   ]
  },
  {
   "cell_type": "markdown",
   "metadata": {},
   "source": [
    "3. Realizar una suma de los elementos de una tupla"
   ]
  },
  {
   "cell_type": "code",
   "execution_count": null,
   "metadata": {},
   "outputs": [],
   "source": [
    "### Funcion\n",
    "\n",
    "def suma_tupla(tuple):\n",
    "    suma_lista = sum(list(tuple)) # Usa la funcion sum() operando en una lista, que si es mutable\n",
    "    return suma_lista\n",
    "\n",
    "# Llamada de ejemplo\n",
    "\n",
    "tupla_prueba = (3, 5, 69, 25, 76)\n",
    "\n",
    "suma_tupla(tupla_prueba)"
   ]
  },
  {
   "cell_type": "markdown",
   "metadata": {},
   "source": [
    "4. Escriba un código que calcule una lista de números proporcionados."
   ]
  },
  {
   "cell_type": "code",
   "execution_count": null,
   "metadata": {},
   "outputs": [],
   "source": [
    "### Funcion\n",
    "\n",
    "def suma_lista(num_list):\n",
    "    if len(num_list) == 1:\n",
    "        return num_list[0]\n",
    "    else:\n",
    "        return sum(num_list)\n",
    "# Llamada de ejemplo\n",
    "\n",
    "suma_lista([3,5,2,5,2,7,8,3,4,23])"
   ]
  },
  {
   "cell_type": "markdown",
   "metadata": {},
   "source": [
    "5. Escriba un código que desordene al azar una lista."
   ]
  },
  {
   "cell_type": "code",
   "execution_count": null,
   "metadata": {},
   "outputs": [],
   "source": [
    "### Funcion\n",
    "from random import shuffle \n",
    "\n",
    "def desorden(list):\n",
    "    shuffle(list)\n",
    "    print(list) # Uso print ya que en una celda solo muestra el ultimo resultado con return, solo muestra desorden(y)\n",
    "\n",
    "# Llamada de ejemplo\n",
    "\n",
    "x = [3,5,2,5,2,7,8,3,4,23]\n",
    "\n",
    "y = ['Vivan', 'las', 'listas', 'en', 'python']\n",
    "\n",
    "desorden(x)\n",
    "desorden(y)"
   ]
  },
  {
   "cell_type": "markdown",
   "metadata": {},
   "source": [
    "6. Escriba un código que pueda contar todas las palabras mayúsculas de un archivo."
   ]
  },
  {
   "cell_type": "code",
   "execution_count": null,
   "metadata": {},
   "outputs": [],
   "source": [
    "### Funcion\n",
    "\n",
    "def count_mayus(archivo):\n",
    "    try:\n",
    "        with open(archivo, 'r') as file:\n",
    "            mayus_count = 0\n",
    "            for word in file.read():\n",
    "                if word.isupper():\n",
    "                    mayus_count += 1\n",
    "            return mayus_count\n",
    "    except FileNotFoundError:\n",
    "        print('File not found')\n",
    "        return -1\n",
    "    \n",
    "# Llamada de ejemplo\n",
    "\n",
    "arch = '001_Variables_copy.py'\n",
    "\n",
    "count_mayus(arch)"
   ]
  },
  {
   "cell_type": "markdown",
   "metadata": {},
   "source": [
    "7. ¿Si la lista 1 es [4, 6, 8, 1, 0, 3], que sería la lista 1 [-1]?"
   ]
  },
  {
   "cell_type": "code",
   "execution_count": null,
   "metadata": {},
   "outputs": [],
   "source": [
    "lista = [4, 6, 8, 1, 0, 3]\n",
    "print(lista[-1])"
   ]
  },
  {
   "cell_type": "markdown",
   "metadata": {},
   "source": [
    "8. Escriba un programa para producir la serie Fibonacci en Python."
   ]
  },
  {
   "cell_type": "code",
   "execution_count": null,
   "metadata": {},
   "outputs": [],
   "source": [
    "### Funcion\n",
    "\n",
    "def fibonacci_hasta(limite):\n",
    "    fibonacci = [0,1]\n",
    " \n",
    "    while fibonacci[-1] + fibonacci[-2] <= limite: # ultimo y penultimos elementos de la lista menores que el numero limite\n",
    "        fibonacci.append(fibonacci[-1] + fibonacci[-2]) #suma los ultimos 2 numeros de la lista\n",
    "\n",
    "    return fibonacci\n",
    "\n",
    "# Llamada de ejemplo\n",
    "fibonacci_hasta(50)"
   ]
  },
  {
   "cell_type": "markdown",
   "metadata": {},
   "source": [
    "9. Escriba un programa en Python para comprobar si un número es primo."
   ]
  },
  {
   "cell_type": "code",
   "execution_count": null,
   "metadata": {},
   "outputs": [],
   "source": [
    "import funciones as fun \n",
    "\n",
    "fun.es_primo(16)"
   ]
  },
  {
   "cell_type": "markdown",
   "metadata": {},
   "source": [
    "10. Escribir un programa en Python para comprobar si un número es capicúa. Es decir, si se lee igual de derecha a izquierda que de izquierda a derecha."
   ]
  },
  {
   "cell_type": "code",
   "execution_count": null,
   "metadata": {},
   "outputs": [],
   "source": [
    "### Funcion\n",
    "\n",
    "def num_capic(num):\n",
    "    x = str(num)\n",
    "    lista_num = list(x)\n",
    "    lista_rev = lista_num[:]\n",
    "    lista_rev.reverse()\n",
    "    if lista_rev == lista_num:\n",
    "        return 'es capicua'\n",
    "    else:\n",
    "        return 'no es capicua'\n",
    "    \n",
    "# Llamada de ejemplo\n",
    "\n",
    "num_capic(616)"
   ]
  },
  {
   "cell_type": "markdown",
   "metadata": {},
   "source": [
    "11. Escribir un algoritmo de ordenación para un conjunto de datos numéricos en Python."
   ]
  },
  {
   "cell_type": "code",
   "execution_count": null,
   "metadata": {},
   "outputs": [],
   "source": [
    "# lista = ['1','4','0','6','9']\n",
    "# lista = [int(i) for i in lista]\n",
    "lista = [1,4,0,6,9]\n",
    "lista.sort()\n",
    "print(lista)"
   ]
  },
  {
   "cell_type": "markdown",
   "metadata": {},
   "source": [
    "12. ¿Cuál de las siguientes declaraciones es inválida?\n",
    "\n",
    "a) abc = 1.000.000\n",
    "\n",
    "b) a b b c = 1000 2000 3000\n",
    "\n",
    "c) a,b,c = 1,000,000\n",
    "\n",
    "d) a_b_c = 1,000,000"
   ]
  },
  {
   "cell_type": "markdown",
   "metadata": {},
   "source": [
    "b) es invalida"
   ]
  },
  {
   "cell_type": "markdown",
   "metadata": {},
   "source": [
    "13. ¿Cuál es el resultado de ejecutar el siguiente código?\n",
    "\n",
    "```python\n",
    "try:\n",
    "    if '1' != 1:\n",
    "        raise 'algun error'\n",
    "    else:\n",
    "        print('no se ha producido ningun error')\n",
    "except 'algun error':\n",
    "    print('se ha producido algun error')\n",
    "``` "
   ]
  },
  {
   "cell_type": "code",
   "execution_count": null,
   "metadata": {},
   "outputs": [],
   "source": [
    "try:\n",
    "    if '1' != 1:\n",
    "        raise 'algun error'\n",
    "    else:\n",
    "        print('no se ha producido ningun error')\n",
    "except 'algun error':\n",
    "    print('se ha producido algun error')\n",
    "\n",
    "# la solucion es codigo invalido debido al except: en except debemos indicar el error marcado, no un texto"
   ]
  }
 ],
 "metadata": {
  "kernelspec": {
   "display_name": "Python 3",
   "language": "python",
   "name": "python3"
  },
  "language_info": {
   "codemirror_mode": {
    "name": "ipython",
    "version": 3
   },
   "file_extension": ".py",
   "mimetype": "text/x-python",
   "name": "python",
   "nbconvert_exporter": "python",
   "pygments_lexer": "ipython3",
   "version": "3.12.3"
  }
 },
 "nbformat": 4,
 "nbformat_minor": 2
}
