{
 "cells": [
  {
   "cell_type": "code",
   "execution_count": 1,
   "metadata": {},
   "outputs": [],
   "source": [
    "### Clase/s ###\n",
    "\n",
    "import datetime\n",
    "from typing import List, Optional\n",
    "\n",
    "class Tarea():\n",
    "    tareas: List['Tarea'] = [] # Lista vacia de la clase tarea, la usaremos para almacenar todos los objetos de tipo Tarea\n",
    "\n",
    "    # Constructor con nombre como parametro de entrada, __marcada esta por defecto en False y recoge el momento de crearla\n",
    "    def __init__(self, nombre) -> None: # No devuelve nada, solo crea el objeto con estas caracteristicas\n",
    "        self.nombre: str = nombre  # Nombre que recibe la tarea\n",
    "        self._marcada: bool = False # nos indica si esta completada o no, por defecto al crear una tarea no estara completada.\n",
    "        self.__momento_creada: datetime.datetime = datetime.datetime.now() # Momento de crearla, la usaremos para ordenar la lista de tareas\n",
    "        Tarea.tareas.append(self) # Añade la tarea creada a la lista\n",
    "\n",
    "    def __str__(self) -> str: # Podemos comprobar el estado de una tarea de manera aislada\n",
    "        if self._marcada == False:\n",
    "            return 'La tarea: {}, No completada, creada en el momento {}'.format(self.nombre,str(self.__momento_creada))\n",
    "        else:\n",
    "            return 'La tarea: {}, Completada, actualizada en el momento {}'.format(self.nombre,str(self.__momento_creada))\n",
    "        \n",
    "    def get_marcada(self) -> bool: # Devuelve el booleano segun este la tarea, por defecto False\n",
    "        return self._marcada\n",
    "    \n",
    "    def set_marcada(self, marca:bool) -> None: # Tiene un booleando como entrada y no devuelve nada, nos permite cambiar el estado de la tarea\n",
    "        self._marcada = marca\n",
    "        if self._marcada == True:\n",
    "            self.set_momento_creada()\n",
    "\n",
    "    def get_momento_creada(self) -> str: # Podemos ver el momento en el que se creó la tarea originalmente\n",
    "        return str(self.__momento_creada) # Hacemos que devuelva un string para visualizarlo, pero sigue siendo un objeto datetime para trabajar con el\n",
    "    \n",
    "    def set_momento_creada(self) -> None: # Modifica el momento de creacion\n",
    "        self.__momento_creada = datetime.datetime.now()\n",
    "    \n",
    "    def tarea_completada(self) -> None: # Accede al atributo y lo modifica, poniendolo a True, usando la sintaxis obj.tarea_completada()\n",
    "        self._marcada = True             # En lugar de obj.set_marcada(True), lo cual haria necesario introducir a que quiero cambiarlo\n",
    "\n",
    "    def eliminar(self) -> None:\n",
    "        if self in Tarea.tareas:\n",
    "            Tarea.tareas.remove(self)\n",
    "\n",
    "    @classmethod\n",
    "    def buscar_tarea_por_nombre(cls, nombre:str) -> Optional['Tarea']: \n",
    "        for tarea in cls.tareas: # itera la lista que tenemos al generar una tarea\n",
    "            if tarea.nombre.strip().lower() == nombre.strip().lower(): # Modifica los strings para hacer una comparacion correcta\n",
    "                return tarea # Si la que buscamos se encuentra en la lista de nombres, devuelve la tarea\n",
    "        return None\n",
    "\n",
    "\n"
   ]
  },
  {
   "cell_type": "code",
   "execution_count": 17,
   "metadata": {},
   "outputs": [],
   "source": [
    "### Funciones ###\n",
    "def anadir_tarea() -> Tarea: # Funcion para crear una tarea nueva, añade la tarea a la lista 'tareas' situada dentro de la clase\n",
    "    nombre = input('Introduce una nueva tarea: ') # Se introduce el nombre por consola. siempre sera un string\n",
    "    nueva_tarea:Tarea = Tarea(nombre) # Crea la tarea, la cual se introduce en la lista debido a nuestro constructor\n",
    "    print(f'La tarea \"{nombre}\" ha sido añadida.') # Muestra la tarea recien introducida\n",
    "    return nueva_tarea # Devuelve la tarea para poder trabajar con ella, por ejemplo usando los metedos o cambiandole el nombre\n",
    "\n",
    "def eliminar_tarea_por_nombre(nombre: str) -> None: # Elimina una tarea indicando el nombre de la tarea\n",
    "    tarea = Tarea.buscar_tarea_por_nombre(nombre.strip()) # Usa el classmethod buscar_tarea_por_nombre para saber si esa tarea existe\n",
    "    if tarea:\n",
    "        tarea.eliminar() # Si encuentra la coincidencia, elimina la tarea\n",
    "        del tarea\n",
    "        print(f'La tarea {nombre} ha sido eliminada con éxito')\n",
    "    else:\n",
    "        print(f'No se encontró la tarea con el nombre {nombre}') # Solo devuelve esto si no elimina la tarea\n",
    "\n",
    "def casilla(tar:Tarea) -> None: # Añade una marca al nombre para indicar si esta completada o no\n",
    "    if tar.get_marcada() == False:\n",
    "        print('[ ]',tar.nombre)\n",
    "    else:\n",
    "        print('[X]',tar.nombre)\n",
    "\n",
    "def orden_lista(obj_list:List) -> List: \n",
    "    sorted_obj_list = sorted(obj_list, key=lambda obj: obj.get_momento_creada()) # Ordena la lista de tareas, en funcion del momento de crearla o modificarla\n",
    "    return sorted_obj_list # Devuelve la lista ordenada\n",
    "\n",
    "def imprimir_lista():\n",
    "    for i in orden_lista(Tarea.tareas): # Imprime las tareas, mostrando si estan marcadas o no\n",
    "        casilla(i)\n"
   ]
  },
  {
   "cell_type": "code",
   "execution_count": 12,
   "metadata": {},
   "outputs": [
    {
     "name": "stdout",
     "output_type": "stream",
     "text": [
      "Object was created at: 2024-05-27 12:45:08.469988\n",
      "Object was created at: 2024-05-27 12:54:20.357029\n",
      "Object was created at: 2024-05-27 12:54:20.357029\n",
      "Object was created at: 2024-05-27 12:54:20.357029\n",
      "Object was created at: 2024-05-27 12:54:20.357029\n",
      "Object was created at: 2024-05-27 12:54:20.357029\n"
     ]
    }
   ],
   "source": [
    "### Testing ###\n",
    "\n",
    "tarea = Tarea('Sacar la basura')\n",
    "\n",
    "# tarea.__str__()\n",
    "# tarea.get_marcada()\n",
    "# tarea.set_marcada(True)\n",
    "# tarea.set_marcada(False)\n",
    "\n",
    "var1 = Tarea('limpiar el cuarto') # variables de prueba\n",
    "var2 = Tarea('hacer la cama')\n",
    "var3 = Tarea('colgar un cuadro')\n",
    "var4 = Tarea('ir a comprar')\n",
    "var5 = Tarea('hacer flexiones')\n",
    "obj_list = [var1,var2,var3,var4,var5,tarea] # lista de variables, usaremos una base de datos\n",
    "\n"
   ]
  }
 ],
 "metadata": {
  "kernelspec": {
   "display_name": "Python 3",
   "language": "python",
   "name": "python3"
  },
  "language_info": {
   "codemirror_mode": {
    "name": "ipython",
    "version": 3
   },
   "file_extension": ".py",
   "mimetype": "text/x-python",
   "name": "python",
   "nbconvert_exporter": "python",
   "pygments_lexer": "ipython3",
   "version": "3.12.3"
  }
 },
 "nbformat": 4,
 "nbformat_minor": 2
}
