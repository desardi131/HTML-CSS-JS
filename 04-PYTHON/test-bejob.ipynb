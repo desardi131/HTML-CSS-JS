{
 "cells": [
  {
   "cell_type": "code",
   "execution_count": 1,
   "metadata": {},
   "outputs": [],
   "source": [
    "### Clase/s ###\n",
    "\n",
    "import datetime\n",
    "\n",
    "class Tarea():\n",
    "    tareas = [] # Lista vacia de la clase tarea, la usaremos para almacenar todos los objetos de tipo Tarea\n",
    "\n",
    "    # Constructor con nombre como parametro de entrada, __marcada esta por defecto en False y recoge el momento de crearla\n",
    "    def __init__(self, nombre) -> None: # No devuelve nada, solo crea el objeto con estas caracteristicas\n",
    "        self.nombre = nombre  # Nombre que recibe la tarea\n",
    "        self._marcada = False # nos indica si esta completada o no, por defecto al crear una tarea no estara completada.\n",
    "        self.__momento_creada = datetime.datetime.now() # Momento de crearla, la usaremos para ordenar la lista de tareas\n",
    "        Tarea.tareas.append(self) # Añade la tarea creada a la lista\n",
    "\n",
    "    def __str__(self) -> str:\n",
    "        if self._marcada == False:\n",
    "            return 'La tarea: {}, No completada, creada en el momento {}'.format(self.nombre,str(self.__momento_creada))\n",
    "        else:\n",
    "            return 'La tarea: {}, Completada, actualizada en el momento {}'.format(self.nombre,str(self.__momento_creada))\n",
    "        \n",
    "    def get_marcada(self) -> bool: # Devuelve el booleano segun este la tarea, por defecto False\n",
    "        return self._marcada\n",
    "    \n",
    "    def set_marcada(self, marca:bool) -> None: # Tiene un booleando como entrada y no devuelve nada, nos permite cambiar el estado de la tarea\n",
    "        self._marcada = marca\n",
    "        if self._marcada == True: ###ERROR, SEGUIR AQUI!!!!!!!!########\n",
    "            self.set_momento_creada()\n",
    "\n",
    "    def get_momento_creada(self) -> str: # Podemos ver el momento en el que se creó la tarea originalmente\n",
    "        return str(self.__momento_creada) # Hacemos que devuelva un string para visualizarlo, pero sigue siendo un objeto datetime para trabajar con el\n",
    "    \n",
    "    def set_momento_creada(self) -> None: # Modifica el momento de creacion\n",
    "        self.__momento_creada = datetime.datetime.now()\n",
    "    \n",
    "    def tarea_completada(self) -> None: # Accede al atributo y lo modifica, poniendolo a True, usando la sintaxis obj.tarea_completada()\n",
    "        self._marcada = True             # En lugar de obj.set_marcada(True), lo cual haria necesario introducir a que quiero cambiarlo\n",
    "    \n"
   ]
  },
  {
   "cell_type": "code",
   "execution_count": 2,
   "metadata": {},
   "outputs": [],
   "source": [
    "tarea = Tarea('Sacar la basura')\n",
    "\n",
    "# tarea.__str__()\n",
    "# tarea.get_marcada()\n",
    "# tarea.set_marcada(True)\n",
    "# tarea.set_marcada(False)"
   ]
  },
  {
   "cell_type": "code",
   "execution_count": null,
   "metadata": {},
   "outputs": [],
   "source": [
    "### Funciones ###\n",
    "def anadir_tarea():\n",
    "    pass\n",
    "\n",
    "def casilla(tar):\n",
    "    if tar.get_marcada() == False:\n",
    "        print('[ ]',tar.nombre)\n",
    "    else:\n",
    "        print('[X]',tar.nombre)\n",
    "\n",
    "def orden_lista(obj_list):\n",
    "    sorted_obj_list = sorted(obj_list, key=lambda obj: obj.get_momento_creada())\n",
    "    return sorted_obj_list\n",
    "\n",
    "def imprimir_lista():\n",
    "    for i in orden_lista():\n",
    "        casilla(i)\n"
   ]
  },
  {
   "cell_type": "code",
   "execution_count": 12,
   "metadata": {},
   "outputs": [
    {
     "name": "stdout",
     "output_type": "stream",
     "text": [
      "Object was created at: 2024-05-27 12:45:08.469988\n",
      "Object was created at: 2024-05-27 12:54:20.357029\n",
      "Object was created at: 2024-05-27 12:54:20.357029\n",
      "Object was created at: 2024-05-27 12:54:20.357029\n",
      "Object was created at: 2024-05-27 12:54:20.357029\n",
      "Object was created at: 2024-05-27 12:54:20.357029\n"
     ]
    }
   ],
   "source": [
    "var1 = Tarea('limpiar el cuarto') # variables de prueba\n",
    "var2 = Tarea('hacer la cama')\n",
    "var3 = Tarea('colgar un cuadro')\n",
    "var4 = Tarea('ir a comprar')\n",
    "var5 = Tarea('hacer flexiones')\n",
    "obj_list = [var1,var2,var3,var4,var5,tarea] # lista de variables, usaremos una base de datos\n",
    "\n",
    "sorted_obj_list = sorted(obj_list, key=lambda obj: obj.get_momento_creada()) # ordenando las tareas por el momento creadas\n"
   ]
  }
 ],
 "metadata": {
  "kernelspec": {
   "display_name": "Python 3",
   "language": "python",
   "name": "python3"
  },
  "language_info": {
   "codemirror_mode": {
    "name": "ipython",
    "version": 3
   },
   "file_extension": ".py",
   "mimetype": "text/x-python",
   "name": "python",
   "nbconvert_exporter": "python",
   "pygments_lexer": "ipython3",
   "version": "3.12.3"
  }
 },
 "nbformat": 4,
 "nbformat_minor": 2
}
