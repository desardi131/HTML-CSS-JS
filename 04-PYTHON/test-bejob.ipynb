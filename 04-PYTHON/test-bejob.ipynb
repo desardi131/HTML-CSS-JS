{
 "cells": [
  {
   "cell_type": "code",
   "execution_count": 36,
   "metadata": {},
   "outputs": [],
   "source": [
    "import datetime\n",
    "\n",
    "class Tarea():\n",
    "\n",
    "    # Constructor con nombre como parametro de entrada, __marcada esta por defecto en False y recoge el momento de crearla\n",
    "    def __init__(self, nombre) -> None: # No devuelve nada, solo crea el objeto con estas caracteristicas\n",
    "        self.nombre = nombre  # Nombre que recibe la tarea\n",
    "        self.__marcada = False # nos indica si esta completada o no, por defecto al crear una tarea no estara completada.\n",
    "        self.__momento_creada = datetime.datetime.now() # Momento de crearla, la usaremos para ordenar la lista de tareas\n",
    "    \n",
    "    def __str__(self) -> str:\n",
    "        if self.__marcada == False:\n",
    "            return 'La tarea: {}, No completada, creada en el momento {}'.format(self.nombre,str(self.__momento_creada))\n",
    "        else:\n",
    "            return 'La tarea: {}, Completada, actualizada en el momento {}'.format(self.nombre,str(self.__momento_creada))\n",
    "        \n",
    "    def get_marcada(self) -> bool: # Devuelve el booleano segun este la tarea, por defecto False\n",
    "        return self.__marcada\n",
    "    \n",
    "    def set_marcada(self, marca:bool) -> None: # Tiene un booleando como entrada y no devuelve nada, nos permite cambiar el estado de la tarea\n",
    "        self.__marcada = marca\n",
    "        if self.__marcada == True: ###ERROR, SEGUIR AQUI!!!!!!!!########\n",
    "            self.set_momento_creada()\n",
    "\n",
    "    def get_momento_creada(self) -> str: # Podemos ver el momento en el que se creó la tarea originalmente\n",
    "        return str(self.__momento_creada) # Hacemos que devuelva un string para visualizarlo, pero sigue siendo un objeto datetime para trabajar con el\n",
    "    \n",
    "    def set_momento_creada(self) -> None: # Modifica el momento de creacion\n",
    "        self.__momento_creada = datetime.datetime.now()\n",
    "    \n",
    "    def tarea_completada(self) -> None: # Accede al atributo y lo modifica, poniendolo a True, usando la sintaxis obj.tarea_completada()\n",
    "        self.__marcada = True             # En lugar de obj.set_marcada(True), lo cual haria necesario introducir a que quiero cambiarlo\n",
    "    \n"
   ]
  },
  {
   "cell_type": "code",
   "execution_count": 33,
   "metadata": {},
   "outputs": [],
   "source": [
    "tarea = Tarea('Sacar la basura')\n",
    "\n",
    "# tarea.__str__()\n",
    "# tarea.get_marcada()\n",
    "# tarea.set_marcada(True)\n",
    "# tarea.set_marcada(False)\n"
   ]
  },
  {
   "cell_type": "code",
   "execution_count": 29,
   "metadata": {},
   "outputs": [],
   "source": [
    "var1 = Tarea(' ') # variables de prueba\n",
    "var2 = Tarea(' ')\n",
    "var3 = Tarea(' ')\n",
    "var4 = Tarea(' ')\n",
    "var5 = Tarea(' ')\n",
    "obj_list = [var1,var2,var3,var4,var5,tarea] # lista de variables, usaremos una base de datos\n",
    "\n",
    "sorted_obj_list = sorted(obj_list, key=lambda obj: obj.get_momento_creada()) # ordenando las tareas por el momento creadas\n",
    "\n",
    "for obj in sorted_obj_list:\n",
    "    print('Object was created at:', obj.get_momento_creada()) # mostrando por pantalla"
   ]
  },
  {
   "cell_type": "code",
   "execution_count": null,
   "metadata": {},
   "outputs": [],
   "source": [
    "def casilla(tar):\n",
    "    print('[ ]',tar.nombre)\n",
    "\n",
    "\n",
    "\n"
   ]
  }
 ],
 "metadata": {
  "kernelspec": {
   "display_name": "Python 3",
   "language": "python",
   "name": "python3"
  },
  "language_info": {
   "codemirror_mode": {
    "name": "ipython",
    "version": 3
   },
   "file_extension": ".py",
   "mimetype": "text/x-python",
   "name": "python",
   "nbconvert_exporter": "python",
   "pygments_lexer": "ipython3",
   "version": "3.12.3"
  }
 },
 "nbformat": 4,
 "nbformat_minor": 2
}
